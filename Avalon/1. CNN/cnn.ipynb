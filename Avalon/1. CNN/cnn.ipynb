{
 "cells": [
  {
   "cell_type": "markdown",
   "id": "22c3b6c8",
   "metadata": {},
   "source": [
    "@article{weng2017detection1,\n",
    "  title   = \"Object Detection for Dummies Part 1: Gradient Vector, HOG, and SS\",\n",
    "  author  = \"Weng, Lilian\",\n",
    "  journal = \"lilianweng.github.io\",\n",
    "  year    = \"2017\",\n",
    "  url     = \"https://lilianweng.github.io/posts/2017-10-29-object-recognition-part-1/\"\n",
    "}"
   ]
  },
  {
   "cell_type": "markdown",
   "id": "6a27715b",
   "metadata": {},
   "source": []
  }
 ],
 "metadata": {
  "language_info": {
   "name": "python"
  }
 },
 "nbformat": 4,
 "nbformat_minor": 5
}
